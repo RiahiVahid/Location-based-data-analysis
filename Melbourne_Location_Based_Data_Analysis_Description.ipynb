{
 "cells": [
  {
   "cell_type": "markdown",
   "metadata": {},
   "source": [
    "# Part 1: Description"
   ]
  },
  {
   "cell_type": "markdown",
   "metadata": {},
   "source": [
    "Melbourne, where I am currently staying, is the capital and most populous city of the Australian state of Victoria, and the second most populous city in Australia and Oceania. It has a population of 5 million (19% of the population of Australia). At the city's centre is the modern Federation Square development, with plazas, bars, and restaurants by the Yarra River. So, it is definitely one of the best places to start up a new business in Australia."
   ]
  },
  {
   "cell_type": "markdown",
   "metadata": {},
   "source": [
    "<img src=\"Melbourne.jpg\" width = 350>"
   ]
  },
  {
   "cell_type": "markdown",
   "metadata": {},
   "source": [
    "During the daytime, specially in the morning and lunch hours, office areas provide huge opportunities for restaurants. On the other hand, sushi is perhaps the best known Japanese food dish to the outside world. It is a recipe that consists of rice and fish with a flavor of vinegar. This food is one of the best foods among Australians and there are many sushi restaurants around the Australia, and particularly Victoria state."
   ]
  },
  {
   "cell_type": "markdown",
   "metadata": {},
   "source": [
    "<img src=\"sushi.jpg\" width = 250>"
   ]
  },
  {
   "cell_type": "markdown",
   "metadata": {},
   "source": [
    "#### During this project, I have focued on opening a new sushi restaurant as staring a new business in Victoria states "
   ]
  },
  {
   "cell_type": "markdown",
   "metadata": {},
   "source": [
    "I have focused on different neighbourhoods in Victoria state and compared them together. First I have obtained the Victoria state neighbourhood names, population and size. Then, their latitude, longitude, and their density is obtained using foursquare API."
   ]
  },
  {
   "cell_type": "markdown",
   "metadata": {},
   "source": [
    "We have then, focused on 4 neighbourhoods with highest density, and compared together using the number of existing sushi restaurant in each of them. That information is achinevd using foursqaure API."
   ]
  },
  {
   "cell_type": "markdown",
   "metadata": {},
   "source": [
    "After getting number of sushi restaurant in each neighbourhood, the one with the least is selected as the potential place for opening the new sushi restauarnt. "
   ]
  },
  {
   "cell_type": "code",
   "execution_count": null,
   "metadata": {},
   "outputs": [],
   "source": []
  }
 ],
 "metadata": {
  "kernelspec": {
   "display_name": "Python 3",
   "language": "python",
   "name": "python3"
  },
  "language_info": {
   "codemirror_mode": {
    "name": "ipython",
    "version": 3
   },
   "file_extension": ".py",
   "mimetype": "text/x-python",
   "name": "python",
   "nbconvert_exporter": "python",
   "pygments_lexer": "ipython3",
   "version": "3.7.3"
  }
 },
 "nbformat": 4,
 "nbformat_minor": 2
}
